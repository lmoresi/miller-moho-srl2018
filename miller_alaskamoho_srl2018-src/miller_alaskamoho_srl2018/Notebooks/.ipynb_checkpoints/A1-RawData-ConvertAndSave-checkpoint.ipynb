{
 "cells": [
  {
   "cell_type": "markdown",
   "metadata": {},
   "source": [
    "## Raw data / conversion \n",
    "\n",
    "In this notebook we show how to read the numpy record array that contains the raw data (and the \n",
    "analysis of the predictability of each point). The raw data has been checked to ensure that there are no duplicate points (where duplicates were found due to re-occupation of sites, the moho values have been averaged) and therefore can be triangulated.\n",
    "\n",
    "--- \n",
    "\n",
    "Notebooks in this section:\n",
    "\n",
    "   - [A1-RawData-ConvertAndSave.ipynb](A1-RawData-ConvertAndSave.ipynb)\n",
    "   - [A2-RawData-PlotQualityInformation.ipynb](A2-RawData-PlotQualityInformation.ipynb)\n",
    "   - [A3-TriangulatingAndinterpolating.ipynb](A3-TriangulatingAndinterpolating.ipynb)\n",
    "   - [A4-PlottingMohoAndMohoSlope.ipynb](A4-PlottingMohoAndMohoSlope.ipynb)\n",
    "   - [A5-Interactive3DPlot.ipynb](A5-Interactive3DPlot.ipynb)\n",
    "   - [A6-ConvertModels2RegularXYZ.ipynb](A6-ConvertModels2RegularXYZ.ipynb)\n",
    "\n",
    "\n"
   ]
  },
  {
   "cell_type": "code",
   "execution_count": 2,
   "metadata": {},
   "outputs": [],
   "source": [
    "import numpy as np\n",
    "import miller_alaskamoho_srl2018 as alaskamoho"
   ]
  },
  {
   "cell_type": "code",
   "execution_count": 3,
   "metadata": {},
   "outputs": [],
   "source": [
    "## These are the original data \n",
    "\n",
    "mohoraw = alaskamoho.MohoRaw\n",
    "\n",
    "## These are the data with modelled variance / model error\n",
    "mohoerr = alaskamoho.MohoErr"
   ]
  },
  {
   "cell_type": "code",
   "execution_count": 4,
   "metadata": {},
   "outputs": [],
   "source": [
    "## Write the data as a txt or csv file\n",
    "\n",
    "np.savetxt(\"AlaskaMohoErrs.txt\", mohoerr, \n",
    "           fmt=\"%+.6e  %+.6e  %+.6e  %04d  %11s  %+.6e  %+.6e  %+.6e  %+.6e\",\n",
    "           header=\"Lon        | Lat          | Moho Depth   | Count   | Station    | Min Err      | Mean Err     | Variance     | Score \", )\n",
    "\n",
    "\n",
    "\n",
    "np.savetxt(\"AlaskaMohoErrs.csv\", mohoerr, \n",
    "           fmt=\"%+.6e, %+.6e, %+.6e, %04d, %11s, %+.6e, %+.6e, %+.6e, %+.6e\",\n",
    "           header=\"Lon        | Lat          | Moho Depth   | Count   | Station    | Min Err      | Mean Err     | Variance     | Score \", )\n",
    "\n"
   ]
  },
  {
   "cell_type": "code",
   "execution_count": 5,
   "metadata": {},
   "outputs": [
    {
     "name": "stdout",
     "output_type": "stream",
     "text": [
      "# Lon        | Lat          | Moho Depth   | Count   | Station    | Min Err      | Mean Err     | Variance     | Score \n",
      "-1.741975e+02  +5.220160e+01  +4.243575e+01  0134     AK-ATKA-  +6.117553e-02  -1.253111e+01  +9.034968e+00  +1.100000e+00\n",
      "-1.717035e+02  +6.377580e+01  +3.332360e+01  0388     AK-GAMB-  +1.064044e-01  -1.510529e+00  +2.164925e+00  +2.100000e+00\n",
      "-1.702477e+02  +5.717660e+01  +2.923481e+01  0105     AK-SPIA-  +7.361107e-02  +4.355321e+00  +5.558165e+00  +1.100000e+00\n",
      "-1.688550e+02  +5.297210e+01  +1.965537e+01  0110     AK-NIKH-  +1.498774e+00  +1.246366e+01  +3.979702e+00  +1.100000e+00\n",
      "-1.681619e+02  +5.335650e+01  +2.596379e+01  0027     AV-OKSO-  +7.498767e-03  +6.651352e+00  +2.885078e+00  +1.100000e+00\n",
      "-1.679264e+02  +6.556010e+01  +3.285631e+01  0387      AK-TNA-  +6.677743e-03  +9.389836e-01  +2.397887e+00  +2.100000e+00\n",
      "-1.669407e+02  +5.380820e+01  +3.729556e+01  0013     AV-MAPS-  +2.052400e+00  -4.469223e+00  +1.857145e+00  +1.100000e+00\n",
      "-1.668780e+02  +5.379380e+01  +4.044977e+01  0013   AV-MGOD-00  +5.263602e+00  -7.745267e+00  +1.844334e+00  +1.100000e+00\n",
      "-1.665040e+02  +5.384560e+01  +3.460865e+01  0133      AK-UNV-  +9.364138e-02  -1.763774e+00  +2.029314e+00  +2.100000e+00\n"
     ]
    }
   ],
   "source": [
    "%%sh\n",
    "\n",
    "head AlaskaMohoErrs.txt"
   ]
  },
  {
   "cell_type": "code",
   "execution_count": null,
   "metadata": {},
   "outputs": [],
   "source": []
  },
  {
   "cell_type": "code",
   "execution_count": null,
   "metadata": {},
   "outputs": [],
   "source": []
  }
 ],
 "metadata": {
  "kernel_info": {
   "name": "python2"
  },
  "kernelspec": {
   "display_name": "Python 2",
   "language": "python",
   "name": "python2"
  },
  "language_info": {
   "codemirror_mode": {
    "name": "ipython",
    "version": 2
   },
   "file_extension": ".py",
   "mimetype": "text/x-python",
   "name": "python",
   "nbconvert_exporter": "python",
   "pygments_lexer": "ipython2",
   "version": "2.7.14"
  },
  "nteract": {
   "version": "0.9.1"
  }
 },
 "nbformat": 4,
 "nbformat_minor": 2
}
